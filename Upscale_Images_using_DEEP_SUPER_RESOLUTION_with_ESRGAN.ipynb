{
  "nbformat": 4,
  "nbformat_minor": 0,
  "metadata": {
    "colab": {
      "name": "Upscale Images using DEEP SUPER RESOLUTION with ESRGAN.ipynb",
      "provenance": [],
      "mount_file_id": "15_Mp-8BAZA2zTxnZ7gCpv5wZlVsJDOih",
      "authorship_tag": "ABX9TyMUIY0vBSrRdRVGeKH7DQG2",
      "include_colab_link": true
    },
    "kernelspec": {
      "name": "python3",
      "display_name": "Python 3"
    },
    "language_info": {
      "name": "python"
    },
    "accelerator": "GPU"
  },
  "cells": [
    {
      "cell_type": "markdown",
      "metadata": {
        "id": "view-in-github",
        "colab_type": "text"
      },
      "source": [
        "<a href=\"https://colab.research.google.com/github/23Aditya/Upscale-Images-resolutions-using-ESRGAN/blob/main/Upscale_Images_using_DEEP_SUPER_RESOLUTION_with_ESRGAN.ipynb\" target=\"_parent\"><img src=\"https://colab.research.google.com/assets/colab-badge.svg\" alt=\"Open In Colab\"/></a>"
      ]
    },
    {
      "cell_type": "markdown",
      "source": [
        "###Clone ESRGAN repo\n",
        "!git clone https://github.com/xinntao/ESRGAN"
      ],
      "metadata": {
        "id": "-9WTqLZJfJhW"
      }
    },
    {
      "cell_type": "code",
      "source": [
        "cd /content/drive/MyDrive/ESRGAN"
      ],
      "metadata": {
        "id": "-dgbOAKIfuuY"
      },
      "execution_count": null,
      "outputs": []
    },
    {
      "cell_type": "code",
      "source": [
        "import gdown\n",
        "print(\"Downloading pretrained models\")\n",
        "output1 = '/content/ESRGAN/models/RRDB_ESRGAN_x4.pth'\n",
        "output2 = '/content/ESRGAN/models/RRDB_PSNR_x4.pth'\n",
        "output3 = '/content/ESRGAN/models/PPON_D.pth'\n",
        "output4 = '/content/ESRGAN/models/PPON_G.pth'\n",
        "print ('Downloading RRDB_ESRGAN_x4.pth')\n",
        "gdown.download('https://drive.google.com/uc?id=1TPrz5QKd8DHHt1k8SRtm6tMiPjz_Qene', output1, quiet=True) \n",
        "print ('Downloading RRDB_PSNR_x4.pth')\n",
        "gdown.download('https://drive.google.com/uc?id=1pJ_T-V1dpb1ewoEra1TGSWl5e6H7M4NN', output2, quiet=True)\n",
        "print ('Downloading PPON_D.pth by Zheng Hui')\n",
        "gdown.download('https://drive.google.com/uc?id=1Fr5aKCD6mw6P-hI0BZr6My2gHNhtUk-V', output3, quiet=True) \n",
        "print ('Downloading PPON_G.pth by Zheng Hui')\n",
        "gdown.download('https://drive.google.com/uc?id=12uR3BSftNA0HDYiKda23GyAj_crpSjOm', output4, quiet=True)  "
      ],
      "metadata": {
        "id": "_wmoKljDfqqb"
      },
      "execution_count": null,
      "outputs": []
    },
    {
      "cell_type": "code",
      "source": [
        "%cd /content/drive/MyDrive/ESRGAN\n",
        "\n",
        "import os.path as osp\n",
        "import glob\n",
        "import cv2\n",
        "import numpy as np\n",
        "import torch\n",
        "import RRDBNet_arch as arch\n",
        "import requests\n",
        "import imageio\n",
        "import warnings\n",
        "warnings.filterwarnings(\"ignore\")\n",
        "from google.colab import files\n",
        "\n",
        "Choose_device = \"cuda\"  \n",
        "\n",
        "model_path = 'models/RRDB_ESRGAN_x4.pth'   \n",
        "device = torch.device(Choose_device) \n",
        "\n",
        "\n",
        "test_img_folder = 'LR/*'\n",
        "\n",
        "model = arch.RRDBNet(3, 3, 64, 23, gc=32)\n",
        "model.load_state_dict(torch.load(model_path), strict=True)\n",
        "model.eval()\n",
        "model = model.to(device)\n",
        "\n",
        "print('Model path {:s}. \\nTesting...'.format(model_path))\n",
        "\n",
        "idx = 0\n",
        "for path in glob.glob(test_img_folder):\n",
        "    idx += 1\n",
        "    base = osp.splitext(osp.basename(path))[0]\n",
        "    print(idx, base)\n",
        "    # read images\n",
        "    img = cv2.imread(path, cv2.IMREAD_COLOR)\n",
        "    img = img * 1.0 / 255\n",
        "    img = torch.from_numpy(np.transpose(img[:, :, [2, 1, 0]], (2, 0, 1))).float()\n",
        "    img_LR = img.unsqueeze(0)\n",
        "    img_LR = img_LR.to(device)\n",
        "\n",
        "    with torch.no_grad():\n",
        "        output = model(img_LR).data.squeeze().float().cpu().clamp_(0, 1).numpy()\n",
        "    output = np.transpose(output[[2, 1, 0], :, :], (1, 2, 0))\n",
        "    output = (output * 255.0).round()\n",
        "    cv2.imwrite('results/{:s}.png'.format(base), output)"
      ],
      "metadata": {
        "id": "K_yxbCeCUQro"
      },
      "execution_count": null,
      "outputs": []
    }
  ]
}